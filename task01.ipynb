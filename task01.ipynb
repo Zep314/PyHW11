{
 "cells": [
  {
   "cell_type": "markdown",
   "id": "032da3be",
   "metadata": {},
   "source": [
    "# Знакомство с языком Python (семинары)\n",
    "## Урок 11. Jupyter Notebook и несколько слов об аналитике"
   ]
  },
  {
   "cell_type": "markdown",
   "id": "8bdf08ff",
   "metadata": {},
   "source": [
    "### Задание 1\n",
    "Дана функция:\n",
    "f(x) = -12x^4\\*sin(cos(x)) - 18x^3+5x^2 + 10x - 30\n",
    "Требуется:\n",
    "1. Определить корни \n",
    "2. Найти интервалы, на которых функция возрастает \n",
    "3. Найти интервалы, на которых функция убывает \n",
    "4. Построить график \n",
    "5. Вычислить вершину \n",
    "6. Определить промежутки, на котором f > 0 \n",
    "7. Определить промежутки, на котором f < 0 "
   ]
  },
  {
   "cell_type": "markdown",
   "id": "96c2290c",
   "metadata": {},
   "source": [
    "### Решение: ###"
   ]
  },
  {
   "cell_type": "code",
   "execution_count": 1,
   "id": "9093e29d",
   "metadata": {},
   "outputs": [],
   "source": [
    "# нужные библиотеки\n",
    "import sympy as sym\n",
    "from sympy import symbols, latex, diff, S, sin, cos\n",
    "from sympy.solvers import nsolve\n",
    "from sympy.plotting import plot\n",
    "\n",
    "sym.init_printing(use_latex='mathjax') # чтобы красиво рисовать функции"
   ]
  },
  {
   "cell_type": "code",
   "execution_count": 2,
   "id": "1db1c3d3",
   "metadata": {},
   "outputs": [
    {
     "data": {
      "text/latex": [
       "$\\displaystyle - 12 x^{4} \\sin{\\left(\\cos{\\left(x \\right)} \\right)} - 18 x^{3} + 5 x^{2} + 10 x - 30$"
      ],
      "text/plain": [
       "      4                   3      2            \n",
       "- 12⋅x ⋅sin(cos(x)) - 18⋅x  + 5⋅x  + 10⋅x - 30"
      ]
     },
     "execution_count": 2,
     "metadata": {},
     "output_type": "execute_result"
    }
   ],
   "source": [
    "x = symbols('x') \n",
    "# заданная функция\n",
    "f = -12*x**4*sin(cos(x)) - 18*x**3 + 5*x**2 + 10*x - 30\n",
    "f"
   ]
  },
  {
   "cell_type": "markdown",
   "id": "e33f109c",
   "metadata": {},
   "source": [
    "## 1. Находим корни функции (ищем значения x, при которых f(x)=0)"
   ]
  },
  {
   "cell_type": "markdown",
   "id": "522548cc",
   "metadata": {},
   "source": [
    "Стандартным методом solve() корни нашей функции **f** не находятся (выдается ошибка), поэтому находим корни функции **f** с помощью численной функции nsolve на промежутке от -9 до 9. Т.к. nsolve требуется параметр, который был бы близким к значению f(x)=0, то используем list comprehansion для формирования списка корней, и оборачиваем его через set, чтобы не было дубликатов."
   ]
  },
  {
   "cell_type": "code",
   "execution_count": 3,
   "id": "bb08b073",
   "metadata": {},
   "outputs": [
    {
     "data": {
      "text/latex": [
       "$\\displaystyle \\left[ -7.65062228513275, \\  -5.02686592820621, \\  -1.33896663927711, \\  2.27305684575625, \\  4.38352369796896, \\  8.03516413341352\\right]$"
      ],
      "text/plain": [
       "[-7.65062228513275, -5.02686592820621, -1.33896663927711, 2.27305684575625, 4.\n",
       "38352369796896, 8.03516413341352]"
      ]
     },
     "execution_count": 3,
     "metadata": {},
     "output_type": "execute_result"
    }
   ],
   "source": [
    "my_sol_set = list(set([nsolve(f , x) for x in range(-9, 10)]))\n",
    "my_sol_set.sort()\n",
    "my_sol_set"
   ]
  },
  {
   "cell_type": "markdown",
   "id": "deedd12a",
   "metadata": {},
   "source": [
    "В промежутке \\[-9..9\\] функция **f(x)** имеет 6 корней "
   ]
  },
  {
   "cell_type": "markdown",
   "id": "cab5188f",
   "metadata": {},
   "source": [
    "## 2,3. Интервалы, на которых функция возрастает и убывает:"
   ]
  },
  {
   "cell_type": "markdown",
   "id": "5a1d4763",
   "metadata": {},
   "source": [
    "Вычислим производную функции **f(x)**"
   ]
  },
  {
   "cell_type": "code",
   "execution_count": 4,
   "id": "3d4c21c4",
   "metadata": {},
   "outputs": [
    {
     "data": {
      "text/latex": [
       "$\\displaystyle 12 x^{4} \\sin{\\left(x \\right)} \\cos{\\left(\\cos{\\left(x \\right)} \\right)} - 48 x^{3} \\sin{\\left(\\cos{\\left(x \\right)} \\right)} - 54 x^{2} + 10 x + 10$"
      ],
      "text/plain": [
       "    4                          3                   2            \n",
       "12⋅x ⋅sin(x)⋅cos(cos(x)) - 48⋅x ⋅sin(cos(x)) - 54⋅x  + 10⋅x + 10"
      ]
     },
     "execution_count": 4,
     "metadata": {},
     "output_type": "execute_result"
    }
   ],
   "source": [
    "f1 = diff(f)\n",
    "f1 # производная"
   ]
  },
  {
   "cell_type": "markdown",
   "id": "5162116f",
   "metadata": {},
   "source": [
    "Найдем значения x, при которых производная **f1(x)==0**"
   ]
  },
  {
   "cell_type": "code",
   "execution_count": 5,
   "id": "3037c7f8",
   "metadata": {},
   "outputs": [
    {
     "data": {
      "text/latex": [
       "$\\displaystyle \\left[ -9.97895376101509, \\  -6.83137004000085, \\  -4.16778352385048, \\  -0.39267717993275, \\  0.454573568108782, \\  1.70060727795121, \\  3.81931083338228, \\  7.00103165854095\\right]$"
      ],
      "text/plain": [
       "[-9.97895376101509, -6.83137004000085, -4.16778352385048, -0.39267717993275, 0\n",
       ".454573568108782, 1.70060727795121, 3.81931083338228, 7.00103165854095]"
      ]
     },
     "execution_count": 5,
     "metadata": {},
     "output_type": "execute_result"
    }
   ],
   "source": [
    "extremum_f_set = list(set([nsolve(f1 , x) for x in range(-9, 9) if x not in [3]])) # значение X в точке экстремума\n",
    "extremum_f_set.sort()\n",
    "extremum_f_set"
   ]
  },
  {
   "cell_type": "markdown",
   "id": "3add7883",
   "metadata": {},
   "source": [
    "на промежутке \\[-9..9\\] функция **f(x)** имеет 8 экстремумов "
   ]
  },
  {
   "cell_type": "markdown",
   "id": "b46585b2",
   "metadata": {},
   "source": [
    "Интервалы монотонности функции **f(x)** найдены, теперь найдем возрастает или убывает функция в этих интервалах. Для удобства - построим pandas dataset для этого."
   ]
  },
  {
   "cell_type": "code",
   "execution_count": 6,
   "id": "ac9b8eb4",
   "metadata": {},
   "outputs": [
    {
     "data": {
      "text/html": [
       "<div>\n",
       "<style scoped>\n",
       "    .dataframe tbody tr th:only-of-type {\n",
       "        vertical-align: middle;\n",
       "    }\n",
       "\n",
       "    .dataframe tbody tr th {\n",
       "        vertical-align: top;\n",
       "    }\n",
       "\n",
       "    .dataframe thead th {\n",
       "        text-align: right;\n",
       "    }\n",
       "</style>\n",
       "<table border=\"1\" class=\"dataframe\">\n",
       "  <thead>\n",
       "    <tr style=\"text-align: right;\">\n",
       "      <th></th>\n",
       "      <th>x</th>\n",
       "      <th>f(x)</th>\n",
       "      <th>f1(x)</th>\n",
       "      <th>x_mid</th>\n",
       "      <th>f1(x_mid)</th>\n",
       "      <th>f(x)_increase</th>\n",
       "    </tr>\n",
       "  </thead>\n",
       "  <tbody>\n",
       "    <tr>\n",
       "      <th>0</th>\n",
       "      <td>-9.97895376101509</td>\n",
       "      <td>107678.041644003</td>\n",
       "      <td>-4.36557456851006e-11</td>\n",
       "      <td>-8.40516190050797</td>\n",
       "      <td>-62326.4122236587</td>\n",
       "      <td>-1.0</td>\n",
       "    </tr>\n",
       "    <tr>\n",
       "      <th>1</th>\n",
       "      <td>-6.83137004000085</td>\n",
       "      <td>-13820.5349264727</td>\n",
       "      <td>7.27595761418343e-12</td>\n",
       "      <td>-5.49957678192566</td>\n",
       "      <td>9400.43995399484</td>\n",
       "      <td>1.0</td>\n",
       "    </tr>\n",
       "    <tr>\n",
       "      <th>2</th>\n",
       "      <td>-4.16778352385048</td>\n",
       "      <td>3111.36323873596</td>\n",
       "      <td>-4.54747350886464e-13</td>\n",
       "      <td>-2.28023035189162</td>\n",
       "      <td>-834.350655244124</td>\n",
       "      <td>-1.0</td>\n",
       "    </tr>\n",
       "    <tr>\n",
       "      <th>3</th>\n",
       "      <td>-0.392677179932750</td>\n",
       "      <td>-32.2935799364569</td>\n",
       "      <td>-1.30451205393456e-15</td>\n",
       "      <td>0.0309481940880160</td>\n",
       "      <td>10.2565645405264</td>\n",
       "      <td>1.0</td>\n",
       "    </tr>\n",
       "    <tr>\n",
       "      <th>4</th>\n",
       "      <td>0.454573568108782</td>\n",
       "      <td>-26.5127223650368</td>\n",
       "      <td>1.66533453693773e-15</td>\n",
       "      <td>1.07759042303000</td>\n",
       "      <td>-56.6305888734185</td>\n",
       "      <td>-1.0</td>\n",
       "    </tr>\n",
       "    <tr>\n",
       "      <th>5</th>\n",
       "      <td>1.70060727795121</td>\n",
       "      <td>-74.1062930861087</td>\n",
       "      <td>-1.42108547152020e-14</td>\n",
       "      <td>2.75995905566675</td>\n",
       "      <td>589.467393297391</td>\n",
       "      <td>1.0</td>\n",
       "    </tr>\n",
       "    <tr>\n",
       "      <th>6</th>\n",
       "      <td>3.81931083338228</td>\n",
       "      <td>872.255770291062</td>\n",
       "      <td>-9.09494701772928e-13</td>\n",
       "      <td>5.41017124596162</td>\n",
       "      <td>-12378.0422480015</td>\n",
       "      <td>-1.0</td>\n",
       "    </tr>\n",
       "    <tr>\n",
       "      <th>7</th>\n",
       "      <td>7.00103165854095</td>\n",
       "      <td>-25610.5096810330</td>\n",
       "      <td>-9.09494701772928e-12</td>\n",
       "      <td>NaN</td>\n",
       "      <td>NaN</td>\n",
       "      <td>NaN</td>\n",
       "    </tr>\n",
       "  </tbody>\n",
       "</table>\n",
       "</div>"
      ],
      "text/plain": [
       "                    x               f(x)                  f1(x)  \\\n",
       "0   -9.97895376101509   107678.041644003  -4.36557456851006e-11   \n",
       "1   -6.83137004000085  -13820.5349264727   7.27595761418343e-12   \n",
       "2   -4.16778352385048   3111.36323873596  -4.54747350886464e-13   \n",
       "3  -0.392677179932750  -32.2935799364569  -1.30451205393456e-15   \n",
       "4   0.454573568108782  -26.5127223650368   1.66533453693773e-15   \n",
       "5    1.70060727795121  -74.1062930861087  -1.42108547152020e-14   \n",
       "6    3.81931083338228   872.255770291062  -9.09494701772928e-13   \n",
       "7    7.00103165854095  -25610.5096810330  -9.09494701772928e-12   \n",
       "\n",
       "                x_mid          f1(x_mid)  f(x)_increase  \n",
       "0   -8.40516190050797  -62326.4122236587           -1.0  \n",
       "1   -5.49957678192566   9400.43995399484            1.0  \n",
       "2   -2.28023035189162  -834.350655244124           -1.0  \n",
       "3  0.0309481940880160   10.2565645405264            1.0  \n",
       "4    1.07759042303000  -56.6305888734185           -1.0  \n",
       "5    2.75995905566675   589.467393297391            1.0  \n",
       "6    5.41017124596162  -12378.0422480015           -1.0  \n",
       "7                 NaN                NaN            NaN  "
      ]
     },
     "execution_count": 6,
     "metadata": {},
     "output_type": "execute_result"
    }
   ],
   "source": [
    "import pandas as pd\n",
    "import numpy as np\n",
    "my_df = pd.DataFrame({\n",
    "        'x':list(extremum_f_set), \n",
    "        'f(x)':[f.subs(x,x1) for x1 in extremum_f_set],\n",
    "        'f1(x)':[f1.subs(x,x1) for x1 in extremum_f_set],\n",
    "        'x_mid':[extremum_f_set[i]-((extremum_f_set[i]-extremum_f_set[i+1])/2) \n",
    "                 if i<len(extremum_f_set)-1 else np.nan for i in range(0,len(extremum_f_set))],\n",
    "        'f1(x_mid)':[f1.subs(x,extremum_f_set[i]-((extremum_f_set[i]-extremum_f_set[i+1])/2)) \n",
    "                     if i<len(extremum_f_set)-1 else np.nan for i in range(0,len(extremum_f_set))]\n",
    "        })\n",
    "my_df['f(x)_increase']=np.where(pd.isnull(my_df['f1(x_mid)']),np.nan,\n",
    "                                np.where(my_df['f1(x_mid)']>0,1,-1))\n",
    "my_df"
   ]
  },
  {
   "cell_type": "markdown",
   "id": "603edb51",
   "metadata": {},
   "source": [
    "В таблице приведен анализ нашей функции **f(x)** на возрастание и убывание\n",
    "\n",
    "* x - точки экстремума функции **f(x)**\n",
    "* f(x) - значения функции **f(x)**\n",
    "* f1(x) - заначения производной функции **f(x)** в точках экстремума (должны быть = 0)\n",
    "* x_mid - среднее значение аргумента, равное середине промежутка между двумя соседними экстремумами\n",
    "* f1(x_mid) - значение производной в x_mid\n",
    "* f(x)\\_increase - возрастание (+1) или убывание (-1) функции **f(x)** на текущем промежутке"
   ]
  },
  {
   "cell_type": "markdown",
   "id": "6a6a3895",
   "metadata": {},
   "source": [
    "## 4. Построить график "
   ]
  },
  {
   "cell_type": "code",
   "execution_count": 7,
   "id": "0a702441",
   "metadata": {},
   "outputs": [
    {
     "data": {
      "image/png": "[encoded data removed]",
      "text/plain": [
       "<Figure size 432x288 with 1 Axes>"
      ]
     },
     "metadata": {
      "needs_background": "light"
     },
     "output_type": "display_data"
    }
   ],
   "source": [
    "str= latex(S(f,evaluate = False))\n",
    "p = plot(f,(x,-9,9),title='$'+'f(x)='+str+'$', show=  False)\n",
    "p.show()"
   ]
  },
  {
   "cell_type": "markdown",
   "id": "137568ae",
   "metadata": {},
   "source": [
    "## 5. Вычислить вершину"
   ]
  },
  {
   "cell_type": "markdown",
   "id": "14137a99",
   "metadata": {},
   "source": [
    "Найдем максимум нашей функции **f(x)** на промежутке \\[-9..9\\], отбросив крайние точки, и выведем занчение x для этого максимума"
   ]
  },
  {
   "cell_type": "code",
   "execution_count": 8,
   "id": "8c702275",
   "metadata": {},
   "outputs": [
    {
     "data": {
      "text/plain": [
       "2    -4.16778352385048\n",
       "Name: x, dtype: object"
      ]
     },
     "execution_count": 8,
     "metadata": {},
     "output_type": "execute_result"
    }
   ],
   "source": [
    "idx = my_df[my_df['f(x)'] == my_df['f(x)'].iloc[1:-1].max()].index\n",
    "my_df.loc[idx,'x']"
   ]
  },
  {
   "cell_type": "markdown",
   "id": "e0473c30",
   "metadata": {},
   "source": [
    "Построим график в окрестности этой точки"
   ]
  },
  {
   "cell_type": "code",
   "execution_count": 9,
   "id": "32aba702",
   "metadata": {},
   "outputs": [
    {
     "data": {
      "image/png": "[encoded data removed]",
      "text/plain": [
       "<Figure size 432x288 with 1 Axes>"
      ]
     },
     "metadata": {
      "needs_background": "light"
     },
     "output_type": "display_data"
    }
   ],
   "source": [
    "str= latex(S(f1,evaluate = False))\n",
    "p = plot(f,(x,my_df.loc[idx-1,'x'],my_df.loc[idx,'x']+1)\n",
    "         , title = '$'+'f1(x)='+str+'$', show = False) # график функции\n",
    "p.show()"
   ]
  },
  {
   "cell_type": "markdown",
   "id": "fa776fd7",
   "metadata": {},
   "source": [
    "В точке x=-4.1677 функция **f(x)** имеет максимум на исследуемом интервале \\[-9..9\\]. Вычислим значение **f(x)** в этой точке"
   ]
  },
  {
   "cell_type": "code",
   "execution_count": 10,
   "id": "bc7e821c",
   "metadata": {},
   "outputs": [
    {
     "data": {
      "text/latex": [
       "$\\displaystyle 3111.36323873596$"
      ],
      "text/plain": [
       "3111.36323873596"
      ]
     },
     "execution_count": 10,
     "metadata": {},
     "output_type": "execute_result"
    }
   ],
   "source": [
    "f.subs(x,my_df.loc[idx,'x'])"
   ]
  },
  {
   "cell_type": "markdown",
   "id": "1940a9cc",
   "metadata": {},
   "source": [
    "Точка (-4.1677; 3111.36) - вершина функции на промежутке \\[-9..9\\]"
   ]
  },
  {
   "cell_type": "markdown",
   "id": "4c7752b4",
   "metadata": {},
   "source": [
    "## 6, 7. Определить промежутки, на котором f > 0 и f < 0"
   ]
  },
  {
   "cell_type": "markdown",
   "id": "c519d92b",
   "metadata": {},
   "source": [
    "Функция **f(x)** - возрастает и убывает на промежутках, ограниченных ее корнями. Посторим pandas dataset, аналогично промежуткам возрастания и убывания."
   ]
  },
  {
   "cell_type": "code",
   "execution_count": 11,
   "id": "9c979267",
   "metadata": {},
   "outputs": [
    {
     "data": {
      "text/html": [
       "<div>\n",
       "<style scoped>\n",
       "    .dataframe tbody tr th:only-of-type {\n",
       "        vertical-align: middle;\n",
       "    }\n",
       "\n",
       "    .dataframe tbody tr th {\n",
       "        vertical-align: top;\n",
       "    }\n",
       "\n",
       "    .dataframe thead th {\n",
       "        text-align: right;\n",
       "    }\n",
       "</style>\n",
       "<table border=\"1\" class=\"dataframe\">\n",
       "  <thead>\n",
       "    <tr style=\"text-align: right;\">\n",
       "      <th></th>\n",
       "      <th>x</th>\n",
       "      <th>f(x)</th>\n",
       "      <th>x_mid</th>\n",
       "      <th>f(x_mid)</th>\n",
       "      <th>f(x)_positive</th>\n",
       "    </tr>\n",
       "  </thead>\n",
       "  <tbody>\n",
       "    <tr>\n",
       "      <th>0</th>\n",
       "      <td>-7.65062228513275</td>\n",
       "      <td>-1.45519152283669e-11</td>\n",
       "      <td>-6.33874410666948</td>\n",
       "      <td>-11593.6364469866</td>\n",
       "      <td>-1.0</td>\n",
       "    </tr>\n",
       "    <tr>\n",
       "      <th>1</th>\n",
       "      <td>-5.02686592820621</td>\n",
       "      <td>-1.36424205265939e-12</td>\n",
       "      <td>-3.18291628374166</td>\n",
       "      <td>1605.07019883190</td>\n",
       "      <td>1.0</td>\n",
       "    </tr>\n",
       "    <tr>\n",
       "      <th>2</th>\n",
       "      <td>-1.33896663927711</td>\n",
       "      <td>7.10542735760100e-15</td>\n",
       "      <td>0.467045103239570</td>\n",
       "      <td>-26.5174099264687</td>\n",
       "      <td>-1.0</td>\n",
       "    </tr>\n",
       "    <tr>\n",
       "      <th>3</th>\n",
       "      <td>2.27305684575625</td>\n",
       "      <td>8.52651282912120e-14</td>\n",
       "      <td>3.32829027186260</td>\n",
       "      <td>620.109569361101</td>\n",
       "      <td>1.0</td>\n",
       "    </tr>\n",
       "    <tr>\n",
       "      <th>4</th>\n",
       "      <td>4.38352369796896</td>\n",
       "      <td>-2.27373675443232e-13</td>\n",
       "      <td>6.20934391569124</td>\n",
       "      <td>-19068.9149848857</td>\n",
       "      <td>-1.0</td>\n",
       "    </tr>\n",
       "    <tr>\n",
       "      <th>5</th>\n",
       "      <td>8.03516413341352</td>\n",
       "      <td>3.63797880709171e-11</td>\n",
       "      <td>NaN</td>\n",
       "      <td>NaN</td>\n",
       "      <td>NaN</td>\n",
       "    </tr>\n",
       "  </tbody>\n",
       "</table>\n",
       "</div>"
      ],
      "text/plain": [
       "                   x                   f(x)              x_mid  \\\n",
       "0  -7.65062228513275  -1.45519152283669e-11  -6.33874410666948   \n",
       "1  -5.02686592820621  -1.36424205265939e-12  -3.18291628374166   \n",
       "2  -1.33896663927711   7.10542735760100e-15  0.467045103239570   \n",
       "3   2.27305684575625   8.52651282912120e-14   3.32829027186260   \n",
       "4   4.38352369796896  -2.27373675443232e-13   6.20934391569124   \n",
       "5   8.03516413341352   3.63797880709171e-11                NaN   \n",
       "\n",
       "            f(x_mid)  f(x)_positive  \n",
       "0  -11593.6364469866           -1.0  \n",
       "1   1605.07019883190            1.0  \n",
       "2  -26.5174099264687           -1.0  \n",
       "3   620.109569361101            1.0  \n",
       "4  -19068.9149848857           -1.0  \n",
       "5                NaN            NaN  "
      ]
     },
     "execution_count": 11,
     "metadata": {},
     "output_type": "execute_result"
    }
   ],
   "source": [
    "my_df2 = pd.DataFrame({\n",
    "        'x':list(my_sol_set), \n",
    "        'f(x)':[f.subs(x,x1) for x1 in my_sol_set],\n",
    "        'x_mid':[my_sol_set[i]-((my_sol_set[i]-my_sol_set[i+1])/2) \n",
    "                 if i<len(my_sol_set)-1 else np.nan for i in range(0,len(my_sol_set))],\n",
    "        'f(x_mid)':[f.subs(x,my_sol_set[i]-((my_sol_set[i]-my_sol_set[i+1])/2)) \n",
    "                     if i<len(my_sol_set)-1 else np.nan for i in range(0,len(my_sol_set))]\n",
    "        })\n",
    "my_df2['f(x)_positive']=np.where(pd.isnull(my_df2['f(x_mid)']),np.nan,\n",
    "                                np.where(my_df2['f(x_mid)']>0,1,-1))\n",
    "my_df2"
   ]
  },
  {
   "cell_type": "markdown",
   "id": "ddaa089e",
   "metadata": {},
   "source": [
    "* x - корни функции **f(x)**\n",
    "* f(x) - значения функции **f(x)** (должны быть = 0)\n",
    "* x_mid - среднее значение аргумента, равное середине промежутка между двумя соседними корнями\n",
    "* f1(x_mid) - значение функцции **f(x)** в x_mid\n",
    "* f(x)\\_positive - значение функции **f(x)** положительное (+1) или отрицательное (-1) на текущем промежутке"
   ]
  },
  {
   "cell_type": "code",
   "execution_count": null,
   "id": "f54287c2",
   "metadata": {},
   "outputs": [],
   "source": []
  }
 ],
 "metadata": {
  "kernelspec": {
   "display_name": "Python 3 (ipykernel)",
   "language": "python",
   "name": "python3"
  },
  "language_info": {
   "codemirror_mode": {
    "name": "ipython",
    "version": 3
   },
   "file_extension": ".py",
   "mimetype": "text/x-python",
   "name": "python",
   "nbconvert_exporter": "python",
   "pygments_lexer": "ipython3",
   "version": "3.9.12"
  }
 },
 "nbformat": 4,
 "nbformat_minor": 5
}
