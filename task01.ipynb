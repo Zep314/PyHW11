{
 "cells": [
  {
   "cell_type": "markdown",
   "id": "032da3be",
   "metadata": {},
   "source": [
    "# Знакомство с языком Python (семинары)\n",
    "## Урок 11. Jupyter Notebook и несколько слов об аналитике"
   ]
  },
  {
   "cell_type": "markdown",
   "id": "8bdf08ff",
   "metadata": {},
   "source": [
    "### Задание 1\n",
    "Дана функция:\n",
    "f(x) = -12x^4\\*sin(cos(x)) - 18x^3+5x^2 + 10x - 30\n",
    "Требуется:\n",
    "1. Определить корни \n",
    "2. Найти интервалы, на которых функция возрастает \n",
    "3. Найти интервалы, на которых функция убывает \n",
    "4. Построить график \n",
    "5. Вычислить вершину \n",
    "6. Определить промежутки, на котором f > 0 \n",
    "7. Определить промежутки, на котором f < 0 "
   ]
  },
  {
   "cell_type": "code",
   "execution_count": 68,
   "id": "9093e29d",
   "metadata": {},
   "outputs": [],
   "source": [
    "import sympy as sym\n",
    "from sympy import symbols, latex, diff, S\n",
    "from sympy.solvers import solve, nsolve\n",
    "from sympy.plotting import plot\n",
    "from sympy import sin, cos\n",
    "\n",
    "sym.init_printing(use_latex='mathjax')"
   ]
  },
  {
   "cell_type": "code",
   "execution_count": 93,
   "id": "1db1c3d3",
   "metadata": {},
   "outputs": [
    {
     "data": {
      "text/latex": [
       "$\\displaystyle - 12 x^{4} \\sin{\\left(\\cos{\\left(x \\right)} \\right)} - 18 x^{3} + 5 x^{2} + 10 x - 30$"
      ],
      "text/plain": [
       "      4                   3      2            \n",
       "- 12⋅x ⋅sin(cos(x)) - 18⋅x  + 5⋅x  + 10⋅x - 30"
      ]
     },
     "execution_count": 93,
     "metadata": {},
     "output_type": "execute_result"
    }
   ],
   "source": [
    "x = symbols('x') # ,real=True\n",
    "\n",
    "f = -12*x**4*sin(cos(x)) - 18*x**3 + 5*x**2 + 10*x - 30\n",
    "#f = -12*x**4 - 18*x**3 + 5*x**2 + 10*x - 30\n",
    "#f = -12*x**4*sin(x) -18\n",
    "f"
   ]
  },
  {
   "cell_type": "markdown",
   "id": "e33f109c",
   "metadata": {},
   "source": [
    "## 1. Находим корни функции (ищем значения x, при которых f(x)=0)"
   ]
  },
  {
   "cell_type": "code",
   "execution_count": 94,
   "id": "9aef7058",
   "metadata": {},
   "outputs": [
    {
     "ename": "NotImplementedError",
     "evalue": "multiple generators [x, sin(cos(x))]\nNo algorithms are implemented to solve equation -12*x**4*sin(cos(x)) - 18*x**3 + 5*x**2 + 10*x - 30",
     "output_type": "error",
     "traceback": [
      "\u001b[0;31m---------------------------------------------------------------------------\u001b[0m",
      "\u001b[0;31mNotImplementedError\u001b[0m                       Traceback (most recent call last)",
      "Input \u001b[0;32mIn [94]\u001b[0m, in \u001b[0;36m<cell line: 1>\u001b[0;34m()\u001b[0m\n\u001b[0;32m----> 1\u001b[0m \u001b[43msolve\u001b[49m\u001b[43m(\u001b[49m\u001b[43mf\u001b[49m\u001b[43m,\u001b[49m\u001b[43m \u001b[49m\u001b[43mx\u001b[49m\u001b[43m)\u001b[49m\n",
      "File \u001b[0;32m~/anaconda3/lib/python3.9/site-packages/sympy/solvers/solvers.py:1106\u001b[0m, in \u001b[0;36msolve\u001b[0;34m(f, *symbols, **flags)\u001b[0m\n\u001b[1;32m   1102\u001b[0m \u001b[38;5;66;03m#\u001b[39;00m\n\u001b[1;32m   1103\u001b[0m \u001b[38;5;66;03m# try to get a solution\u001b[39;00m\n\u001b[1;32m   1104\u001b[0m \u001b[38;5;66;03m###########################################################################\u001b[39;00m\n\u001b[1;32m   1105\u001b[0m \u001b[38;5;28;01mif\u001b[39;00m bare_f:\n\u001b[0;32m-> 1106\u001b[0m     solution \u001b[38;5;241m=\u001b[39m \u001b[43m_solve\u001b[49m\u001b[43m(\u001b[49m\u001b[43mf\u001b[49m\u001b[43m[\u001b[49m\u001b[38;5;241;43m0\u001b[39;49m\u001b[43m]\u001b[49m\u001b[43m,\u001b[49m\u001b[43m \u001b[49m\u001b[38;5;241;43m*\u001b[39;49m\u001b[43msymbols\u001b[49m\u001b[43m,\u001b[49m\u001b[43m \u001b[49m\u001b[38;5;241;43m*\u001b[39;49m\u001b[38;5;241;43m*\u001b[39;49m\u001b[43mflags\u001b[49m\u001b[43m)\u001b[49m\n\u001b[1;32m   1107\u001b[0m \u001b[38;5;28;01melse\u001b[39;00m:\n\u001b[1;32m   1108\u001b[0m     solution \u001b[38;5;241m=\u001b[39m _solve_system(f, symbols, \u001b[38;5;241m*\u001b[39m\u001b[38;5;241m*\u001b[39mflags)\n",
      "File \u001b[0;32m~/anaconda3/lib/python3.9/site-packages/sympy/solvers/solvers.py:1720\u001b[0m, in \u001b[0;36m_solve\u001b[0;34m(f, *symbols, **flags)\u001b[0m\n\u001b[1;32m   1717\u001b[0m \u001b[38;5;66;03m# ----------- end of fallback ----------------------------\u001b[39;00m\n\u001b[1;32m   1719\u001b[0m \u001b[38;5;28;01mif\u001b[39;00m result \u001b[38;5;129;01mis\u001b[39;00m \u001b[38;5;28;01mFalse\u001b[39;00m:\n\u001b[0;32m-> 1720\u001b[0m     \u001b[38;5;28;01mraise\u001b[39;00m \u001b[38;5;167;01mNotImplementedError\u001b[39;00m(\u001b[38;5;124m'\u001b[39m\u001b[38;5;130;01m\\n\u001b[39;00m\u001b[38;5;124m'\u001b[39m\u001b[38;5;241m.\u001b[39mjoin([msg, not_impl_msg \u001b[38;5;241m%\u001b[39m f]))\n\u001b[1;32m   1722\u001b[0m \u001b[38;5;28;01mif\u001b[39;00m flags\u001b[38;5;241m.\u001b[39mget(\u001b[38;5;124m'\u001b[39m\u001b[38;5;124msimplify\u001b[39m\u001b[38;5;124m'\u001b[39m, \u001b[38;5;28;01mTrue\u001b[39;00m):\n\u001b[1;32m   1723\u001b[0m     result \u001b[38;5;241m=\u001b[39m \u001b[38;5;28mlist\u001b[39m(\u001b[38;5;28mmap\u001b[39m(simplify, result))\n",
      "\u001b[0;31mNotImplementedError\u001b[0m: multiple generators [x, sin(cos(x))]\nNo algorithms are implemented to solve equation -12*x**4*sin(cos(x)) - 18*x**3 + 5*x**2 + 10*x - 30"
     ]
    }
   ],
   "source": [
    "solve(f, x) # implicit=True"
   ]
  },
  {
   "cell_type": "markdown",
   "id": "deedd12a",
   "metadata": {},
   "source": [
    "Действительных корней нет - функция не пересекает ось OX"
   ]
  },
  {
   "cell_type": "markdown",
   "id": "cab5188f",
   "metadata": {},
   "source": [
    "## 2,3. Интервалы, на которых функция возрастает и убывает:"
   ]
  },
  {
   "cell_type": "code",
   "execution_count": 31,
   "id": "3d4c21c4",
   "metadata": {},
   "outputs": [
    {
     "data": {
      "text/latex": [
       "$\\displaystyle - 48 x^{3} - 54 x^{2} + 10 x + 10$"
      ],
      "text/plain": [
       "-48*x**3 - 54*x**2 + 10*x + 10"
      ]
     },
     "execution_count": 31,
     "metadata": {},
     "output_type": "execute_result"
    }
   ],
   "source": [
    "f1 = diff(f)\n",
    "f1 # производная\n"
   ]
  },
  {
   "cell_type": "code",
   "execution_count": 32,
   "id": "3037c7f8",
   "metadata": {},
   "outputs": [
    {
     "data": {
      "text/latex": [
       "$\\displaystyle -0.41435290273377 + 1.0 \\cdot 10^{-23} i$"
      ],
      "text/plain": [
       "-0.41435290273377 + 0.e-23*I"
      ]
     },
     "execution_count": 32,
     "metadata": {},
     "output_type": "execute_result"
    }
   ],
   "source": [
    "extremum_x = solve(f1,x) # значение X в точке экстремума\n",
    "extremum_x[0].n()"
   ]
  },
  {
   "cell_type": "markdown",
   "id": "3add7883",
   "metadata": {},
   "source": [
    "т.к. функция симметричная (в ней есть модуль) - то точка экстремума так же будет симметрична. Так же точкой экстремума будет точка 0  "
   ]
  },
  {
   "cell_type": "code",
   "execution_count": 33,
   "id": "ac9b8eb4",
   "metadata": {},
   "outputs": [
    {
     "name": "stdout",
     "output_type": "stream",
     "text": [
      "-26.6322639436467 + 0.e-22*I\n",
      "-30.0000000000000\n",
      "-32.3582979436609 - 0.e-22*I\n"
     ]
    }
   ],
   "source": [
    "print(f.subs(x,-extremum_x[0]).n()) #\n",
    "print(f.subs(x,0).n())\n",
    "print(f.subs(x,extremum_x[0]).n())"
   ]
  },
  {
   "cell_type": "code",
   "execution_count": 34,
   "id": "ef09839a",
   "metadata": {},
   "outputs": [
    {
     "name": "stdout",
     "output_type": "stream",
     "text": [
      "158\n",
      "6.22400000000000\n",
      "9.45600000000000\n",
      "-570\n"
     ]
    }
   ],
   "source": [
    "print(f1.subs(x,-2))\n",
    "print(f1.subs(x,-0.2))\n",
    "print(f1.subs(x,0.2))\n",
    "print(f1.subs(x,2))\n"
   ]
  },
  {
   "cell_type": "markdown",
   "id": "603edb51",
   "metadata": {},
   "source": [
    "На промежутке от -oo до -extremum_x[0] - производная отрицательная - функция f(x) - убывает\n",
    "На промежутке от -extremum_x[0] до 0 - производная положительная - функция f(x) - возрастает\n",
    "На промежутке от 0 до extremum_x[0] - производная отрицательная - функция f(x) - убывает\n",
    "На промежутке от extremum_x[0] до +oo - производная положительная - функция f(x) - возрастает\n"
   ]
  },
  {
   "cell_type": "markdown",
   "id": "6a6a3895",
   "metadata": {},
   "source": [
    "## 4. Построить график "
   ]
  },
  {
   "cell_type": "code",
   "execution_count": 35,
   "id": "0a702441",
   "metadata": {},
   "outputs": [
    {
     "data": {
      "image/png": "[encoded data removed]",
      "text/plain": [
       "<Figure size 432x288 with 1 Axes>"
      ]
     },
     "metadata": {
      "needs_background": "light"
     },
     "output_type": "display_data"
    }
   ],
   "source": [
    "str= latex(S(f,evaluate = False))\n",
    "p = plot(f,(x,-3,3),title='$'+'f(x)='+str+'$', show=  False)\n",
    "p.show()"
   ]
  },
  {
   "cell_type": "markdown",
   "id": "137568ae",
   "metadata": {},
   "source": [
    "## 5. Вычислить вершину"
   ]
  },
  {
   "cell_type": "code",
   "execution_count": 36,
   "id": "32aba702",
   "metadata": {},
   "outputs": [
    {
     "data": {
      "image/png": "[encoded data removed]",
      "text/plain": [
       "<Figure size 432x288 with 1 Axes>"
      ]
     },
     "metadata": {
      "needs_background": "light"
     },
     "output_type": "display_data"
    }
   ],
   "source": [
    "str= latex(S(f1,evaluate = False))\n",
    "p = plot(f1,(x,-1,1), title = '$'+'f1(x)='+str+'$', show = False) # график производной\n",
    "p.show()"
   ]
  },
  {
   "cell_type": "markdown",
   "id": "fa776fd7",
   "metadata": {},
   "source": [
    "В точке x=0 производная функции имеет точку разрыва. Примем точку x = 0 вершиной функции. И вычислим ее значение"
   ]
  },
  {
   "cell_type": "code",
   "execution_count": 37,
   "id": "bc7e821c",
   "metadata": {},
   "outputs": [
    {
     "data": {
      "text/latex": [
       "$\\displaystyle -30$"
      ],
      "text/plain": [
       "-30"
      ]
     },
     "execution_count": 37,
     "metadata": {},
     "output_type": "execute_result"
    }
   ],
   "source": [
    "f.subs(x,0)"
   ]
  },
  {
   "cell_type": "markdown",
   "id": "1940a9cc",
   "metadata": {},
   "source": [
    "Точка (0; 8) - вершина функции"
   ]
  },
  {
   "cell_type": "markdown",
   "id": "4c7752b4",
   "metadata": {},
   "source": [
    "## 6, 7. Определить промежутки, на котором f > 0 и f < 0"
   ]
  },
  {
   "cell_type": "markdown",
   "id": "c519d92b",
   "metadata": {},
   "source": [
    "Функция f(x) - не имеет действительных корней, соответственно функция не пересекает ось OX. Т. е. функция на всем своем промежутке определения или положительна, или отрицательна. Вычислим любое ее значение."
   ]
  },
  {
   "cell_type": "code",
   "execution_count": 38,
   "id": "9c979267",
   "metadata": {},
   "outputs": [
    {
     "data": {
      "text/latex": [
       "$\\displaystyle -30$"
      ],
      "text/plain": [
       "-30"
      ]
     },
     "execution_count": 38,
     "metadata": {},
     "output_type": "execute_result"
    }
   ],
   "source": [
    "f.subs(x,0)"
   ]
  },
  {
   "cell_type": "markdown",
   "id": "ddaa089e",
   "metadata": {},
   "source": [
    "Ответ - положительный. Функция положительна на всем промежутке ее определения от -oo до +oo"
   ]
  }
 ],
 "metadata": {
  "kernelspec": {
   "display_name": "Python 3 (ipykernel)",
   "language": "python",
   "name": "python3"
  },
  "language_info": {
   "codemirror_mode": {
    "name": "ipython",
    "version": 3
   },
   "file_extension": ".py",
   "mimetype": "text/x-python",
   "name": "python",
   "nbconvert_exporter": "python",
   "pygments_lexer": "ipython3",
   "version": "3.9.12"
  }
 },
 "nbformat": 4,
 "nbformat_minor": 5
}
